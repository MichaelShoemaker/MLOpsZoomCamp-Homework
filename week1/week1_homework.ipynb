{
 "cells": [
  {
   "cell_type": "code",
   "execution_count": 4,
   "id": "creative-fiction",
   "metadata": {},
   "outputs": [],
   "source": [
    "# !wget https://nyc-tlc.s3.amazonaws.com/trip+data/fhv_tripdata_2021-01.parquet\n",
    "# !wget https://nyc-tlc.s3.amazonaws.com/trip+data/fhv_tripdata_2021-02.parquet"
   ]
  },
  {
   "cell_type": "code",
   "execution_count": 5,
   "id": "concrete-brown",
   "metadata": {},
   "outputs": [
    {
     "name": "stdout",
     "output_type": "stream",
     "text": [
      "Collecting pyarrow\n",
      "  Downloading pyarrow-8.0.0-cp38-cp38-manylinux_2_17_x86_64.manylinux2014_x86_64.whl (29.4 MB)\n",
      "\u001b[K     |████████████████████████████████| 29.4 MB 606 kB/s eta 0:00:01\n",
      "\u001b[?25hRequirement already satisfied: numpy>=1.16.6 in /home/gary/.local/lib/python3.8/site-packages (from pyarrow) (1.20.1)\n",
      "Installing collected packages: pyarrow\n",
      "Successfully installed pyarrow-8.0.0\n"
     ]
    }
   ],
   "source": [
    "# !pip install pyarrow"
   ]
  },
  {
   "cell_type": "code",
   "execution_count": 2,
   "id": "individual-senior",
   "metadata": {},
   "outputs": [],
   "source": [
    "import pandas as pd"
   ]
  },
  {
   "cell_type": "code",
   "execution_count": 6,
   "id": "designed-symbol",
   "metadata": {},
   "outputs": [],
   "source": [
    "jan = pd.read_parquet('fhv_tripdata_2021-01.parquet')"
   ]
  },
  {
   "cell_type": "markdown",
   "id": "shared-barrel",
   "metadata": {},
   "source": [
    "Question 1:"
   ]
  },
  {
   "cell_type": "code",
   "execution_count": 7,
   "id": "third-vision",
   "metadata": {},
   "outputs": [
    {
     "data": {
      "text/plain": [
       "1154112"
      ]
     },
     "execution_count": 7,
     "metadata": {},
     "output_type": "execute_result"
    }
   ],
   "source": [
    "jan.shape[0]"
   ]
  },
  {
   "cell_type": "code",
   "execution_count": 8,
   "id": "constitutional-officer",
   "metadata": {},
   "outputs": [
    {
     "data": {
      "text/plain": [
       "Index(['dispatching_base_num', 'pickup_datetime', 'dropOff_datetime',\n",
       "       'PUlocationID', 'DOlocationID', 'SR_Flag', 'Affiliated_base_number'],\n",
       "      dtype='object')"
      ]
     },
     "execution_count": 8,
     "metadata": {},
     "output_type": "execute_result"
    }
   ],
   "source": [
    "jan.columns"
   ]
  },
  {
   "cell_type": "code",
   "execution_count": 10,
   "id": "adaptive-kitchen",
   "metadata": {},
   "outputs": [],
   "source": [
    "jan['duration'] = jan.dropOff_datetime - jan.pickup_datetime"
   ]
  },
  {
   "cell_type": "code",
   "execution_count": 11,
   "id": "answering-quality",
   "metadata": {},
   "outputs": [],
   "source": [
    "jan.duration = jan.duration.apply(lambda td: td.total_seconds()/60)"
   ]
  },
  {
   "cell_type": "markdown",
   "id": "seasonal-community",
   "metadata": {},
   "source": [
    "Question 2:"
   ]
  },
  {
   "cell_type": "code",
   "execution_count": 12,
   "id": "liquid-active",
   "metadata": {},
   "outputs": [
    {
     "data": {
      "text/plain": [
       "19.167224093791006"
      ]
     },
     "execution_count": 12,
     "metadata": {},
     "output_type": "execute_result"
    }
   ],
   "source": [
    "jan.duration.mean()"
   ]
  },
  {
   "cell_type": "code",
   "execution_count": 23,
   "id": "signal-parallel",
   "metadata": {},
   "outputs": [],
   "source": [
    "jan_limited = jan[(jan.duration >= 1) & (jan.duration <= 60)]"
   ]
  },
  {
   "cell_type": "markdown",
   "id": "catholic-munich",
   "metadata": {},
   "source": [
    "Question 2.5:"
   ]
  },
  {
   "cell_type": "code",
   "execution_count": 26,
   "id": "strategic-limitation",
   "metadata": {},
   "outputs": [
    {
     "data": {
      "text/plain": [
       "44286"
      ]
     },
     "execution_count": 26,
     "metadata": {},
     "output_type": "execute_result"
    }
   ],
   "source": [
    "jan.shape[0]-jan_limited.shape[0]"
   ]
  },
  {
   "cell_type": "code",
   "execution_count": 28,
   "id": "marked-cartridge",
   "metadata": {},
   "outputs": [
    {
     "name": "stdout",
     "output_type": "stream",
     "text": [
      "<class 'pandas.core.frame.DataFrame'>\n",
      "Int64Index: 1109826 entries, 0 to 1154111\n",
      "Data columns (total 8 columns):\n",
      " #   Column                  Non-Null Count    Dtype          \n",
      "---  ------                  --------------    -----          \n",
      " 0   dispatching_base_num    1109826 non-null  object         \n",
      " 1   pickup_datetime         1109826 non-null  datetime64[ns] \n",
      " 2   dropOff_datetime        1109826 non-null  datetime64[ns] \n",
      " 3   PUlocationID            182818 non-null   float64        \n",
      " 4   DOlocationID            961919 non-null   float64        \n",
      " 5   SR_Flag                 0 non-null        object         \n",
      " 6   Affiliated_base_number  1109053 non-null  object         \n",
      " 7   duration                1109826 non-null  timedelta64[ns]\n",
      "dtypes: datetime64[ns](2), float64(2), object(3), timedelta64[ns](1)\n",
      "memory usage: 76.2+ MB\n"
     ]
    }
   ],
   "source": [
    "jan_limited.info()"
   ]
  },
  {
   "cell_type": "code",
   "execution_count": null,
   "id": "contrary-insight",
   "metadata": {},
   "outputs": [],
   "source": [
    "jan_limited.fillna({\"DOlocationID\":1}, inplace=True)"
   ]
  }
 ],
 "metadata": {
  "kernelspec": {
   "display_name": "Python 3",
   "language": "python",
   "name": "python3"
  },
  "language_info": {
   "codemirror_mode": {
    "name": "ipython",
    "version": 3
   },
   "file_extension": ".py",
   "mimetype": "text/x-python",
   "name": "python",
   "nbconvert_exporter": "python",
   "pygments_lexer": "ipython3",
   "version": "3.8.10"
  }
 },
 "nbformat": 4,
 "nbformat_minor": 5
}
